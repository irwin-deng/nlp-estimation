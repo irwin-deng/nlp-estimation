{
 "cells": [
  {
   "cell_type": "code",
   "execution_count": 1,
   "metadata": {},
   "outputs": [],
   "source": [
    "# !pip install tfds-nightly"
   ]
  },
  {
   "cell_type": "code",
   "execution_count": 2,
   "metadata": {},
   "outputs": [
    {
     "name": "stderr",
     "output_type": "stream",
     "text": [
      "2022-10-31 05:06:58.986412: I tensorflow/core/platform/cpu_feature_guard.cc:193] This TensorFlow binary is optimized with oneAPI Deep Neural Network Library (oneDNN) to use the following CPU instructions in performance-critical operations:  AVX2 AVX512F FMA\n",
      "To enable them in other operations, rebuild TensorFlow with the appropriate compiler flags.\n",
      "2022-10-31 05:06:59.141458: E tensorflow/stream_executor/cuda/cuda_blas.cc:2981] Unable to register cuBLAS factory: Attempting to register factory for plugin cuBLAS when one has already been registered\n"
     ]
    }
   ],
   "source": [
    "# Imports\n",
    "import os\n",
    "import tensorflow as tf\n",
    "import tensorflow_datasets as tfds\n",
    "import tensorflow_text\n",
    "from typing import Any\n",
    "\n",
    "# Only let TensorFlow allocate RAM as needed\n",
    "physical_devices = tf.config.experimental.list_physical_devices(\"GPU\")\n",
    "if len(physical_devices) > 0:\n",
    "    tf.config.experimental.set_memory_growth(physical_devices[0], True)\n",
    "\n",
    "# Configuration\n",
    "tf.random.set_seed(0)\n",
    "batch_size = 64\n",
    "snli_ds_name = \"snli\"\n",
    "sentence_features = [\"premise\", \"hypothesis\"]\n",
    "saved_model_dir = \"saved_model\""
   ]
  },
  {
   "cell_type": "code",
   "execution_count": 3,
   "metadata": {},
   "outputs": [
    {
     "name": "stderr",
     "output_type": "stream",
     "text": [
      "2022-10-31 05:07:01.531446: I tensorflow/core/platform/cpu_feature_guard.cc:193] This TensorFlow binary is optimized with oneAPI Deep Neural Network Library (oneDNN) to use the following CPU instructions in performance-critical operations:  AVX2 AVX512F FMA\n",
      "To enable them in other operations, rebuild TensorFlow with the appropriate compiler flags.\n",
      "2022-10-31 05:07:02.327632: I tensorflow/core/common_runtime/gpu/gpu_device.cc:1616] Created device /job:localhost/replica:0/task:0/device:GPU:0 with 22260 MB memory:  -> device: 0, name: NVIDIA GeForce RTX 3090, pci bus id: 0000:68:00.0, compute capability: 8.6\n"
     ]
    }
   ],
   "source": [
    "# Load saved model\n",
    "preprocessor_save_path = os.path.join(saved_model_dir, \"preprocessor\")\n",
    "preprocessor = tf.keras.models.load_model(preprocessor_save_path, compile=False)\n",
    "\n",
    "classifier_save_path = os.path.join(saved_model_dir, \"classifier\")\n",
    "classifier = tf.keras.models.load_model(classifier_save_path, compile=False)"
   ]
  },
  {
   "cell_type": "code",
   "execution_count": 4,
   "metadata": {},
   "outputs": [
    {
     "name": "stderr",
     "output_type": "stream",
     "text": [
      "/usr/local/lib/python3.8/dist-packages/keras/engine/functional.py:637: UserWarning: Input dict contained keys ['label'] which did not match any model input. They will be ignored by the model.\n",
      "  inputs = self._flatten_to_reference_inputs(inputs)\n"
     ]
    }
   ],
   "source": [
    "def get_data_from_dataset(full_dataset: \"dict[Any, tf.data.Dataset]\", info: tfds.core.DatasetBuilder, split: str,\n",
    "                          batch_size: int, preprocessor: tf.keras.Model) -> \"tuple[tf.data.Dataset, int]\":\n",
    "    is_training = split.startswith(\"train\")\n",
    "    dataset = tf.data.Dataset.from_tensor_slices(full_dataset[split])\n",
    "    num_examples = info.splits[split].num_examples\n",
    "\n",
    "    if is_training:\n",
    "        dataset = dataset.shuffle(num_examples)\n",
    "        dataset = dataset.repeat()\n",
    "    dataset = dataset.batch(batch_size)\n",
    "    dataset = dataset.map(lambda ex: (preprocessor(ex), ex[\"label\"]))\n",
    "    dataset = dataset.cache().prefetch(buffer_size=tf.data.AUTOTUNE)\n",
    "    return dataset, num_examples\n",
    "\n",
    "# Create train, test, and validation data\n",
    "snli_ds: \"dict[tfds.Split, tf.data.Dataset]\" = tfds.load(snli_ds_name, batch_size=-1, shuffle_files=True)  # type: ignore\n",
    "snli_ds_info = tfds.builder(snli_ds_name).info\n",
    "\n",
    "train_data, train_data_size = get_data_from_dataset(snli_ds, snli_ds_info,\n",
    "    \"train\", batch_size, preprocessor)\n",
    "steps_per_epoch = train_data_size // batch_size\n",
    "\n",
    "validation_data, validation_data_size = get_data_from_dataset(snli_ds, snli_ds_info,\n",
    "    \"validation\", batch_size, preprocessor)\n",
    "validation_steps = validation_data_size // batch_size\n",
    "\n",
    "test_data, test_data_size = get_data_from_dataset(snli_ds, snli_ds_info,\n",
    "    \"test\", batch_size, preprocessor)"
   ]
  },
  {
   "cell_type": "code",
   "execution_count": 5,
   "metadata": {},
   "outputs": [
    {
     "name": "stdout",
     "output_type": "stream",
     "text": [
      "  1/157 [..............................] - ETA: 5:00 - loss: 0.6702 - accuracy: 0.7500"
     ]
    },
    {
     "name": "stderr",
     "output_type": "stream",
     "text": [
      "2022-10-31 05:07:22.570482: I tensorflow/stream_executor/cuda/cuda_blas.cc:1614] TensorFloat-32 will be used for the matrix multiplication. This will only be logged once.\n"
     ]
    },
    {
     "name": "stdout",
     "output_type": "stream",
     "text": [
      "157/157 [==============================] - 19s 111ms/step - loss: nan - accuracy: 0.7792\n"
     ]
    },
    {
     "data": {
      "text/plain": [
       "[nan, 0.77920001745224]"
      ]
     },
     "execution_count": 5,
     "metadata": {},
     "output_type": "execute_result"
    }
   ],
   "source": [
    "optimizer = tf.keras.optimizers.Adam(2e-5)\n",
    "metrics = [tf.keras.metrics.SparseCategoricalAccuracy(\"accuracy\", dtype=tf.float32)]\n",
    "loss = tf.keras.losses.SparseCategoricalCrossentropy(from_logits=True)\n",
    "\n",
    "# Compile model\n",
    "classifier.compile(optimizer=optimizer, metrics=metrics, loss=loss)\n",
    "\n",
    "# Evaluate model\n",
    "classifier.evaluate(test_data)"
   ]
  }
 ],
 "metadata": {
  "kernelspec": {
   "display_name": "Python 3 (ipykernel)",
   "language": "python",
   "name": "python3"
  },
  "language_info": {
   "codemirror_mode": {
    "name": "ipython",
    "version": 3
   },
   "file_extension": ".py",
   "mimetype": "text/x-python",
   "name": "python",
   "nbconvert_exporter": "python",
   "pygments_lexer": "ipython3",
   "version": "3.9.13"
  },
  "vscode": {
   "interpreter": {
    "hash": "66d5ff5d75b0aa59d8855ed66c860f9ea9884a6cb86de72b9dbdec822583f353"
   }
  }
 },
 "nbformat": 4,
 "nbformat_minor": 2
}
